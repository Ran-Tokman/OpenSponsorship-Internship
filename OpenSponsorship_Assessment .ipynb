{
 "cells": [
  {
   "cell_type": "markdown",
   "metadata": {},
   "source": [
    "### Imports & Cleaning"
   ]
  },
  {
   "cell_type": "code",
   "execution_count": 2,
   "metadata": {},
   "outputs": [],
   "source": [
    "import pandas as pd\n",
    "import numpy as np\n",
    "import matplotlib.pyplot as plt\n",
    "import seaborn as sns\n",
    "\n",
    "%matplotlib inline"
   ]
  },
  {
   "cell_type": "code",
   "execution_count": 3,
   "metadata": {},
   "outputs": [],
   "source": [
    "url='https://s3.amazonaws.com/csvpastebin/uploads/b42c82a21d1e2d737f2da05d6c96d790/brands_data.csv'"
   ]
  },
  {
   "cell_type": "code",
   "execution_count": 4,
   "metadata": {},
   "outputs": [],
   "source": [
    "df = pd.read_csv(url)"
   ]
  },
  {
   "cell_type": "code",
   "execution_count": 5,
   "metadata": {},
   "outputs": [],
   "source": [
    "df.to_csv('OpenSponsorship_Data.csv') "
   ]
  },
  {
   "cell_type": "code",
   "execution_count": 12,
   "metadata": {
    "scrolled": true
   },
   "outputs": [
    {
     "name": "stdout",
     "output_type": "stream",
     "text": [
      "<class 'pandas.core.frame.DataFrame'>\n",
      "RangeIndex: 2041 entries, 0 to 2040\n",
      "Data columns (total 8 columns):\n",
      "name                    782 non-null object\n",
      "brand_category          233 non-null object\n",
      "product_category        583 non-null object\n",
      "created                 2041 non-null object\n",
      "last_active             2038 non-null object\n",
      "last_onboarding_step    2041 non-null int64\n",
      "saw_discovery           2041 non-null bool\n",
      "address_country         555 non-null object\n",
      "dtypes: bool(1), int64(1), object(6)\n",
      "memory usage: 113.7+ KB\n"
     ]
    }
   ],
   "source": [
    "df.info()"
   ]
  },
  {
   "cell_type": "code",
   "execution_count": 6,
   "metadata": {
    "scrolled": true
   },
   "outputs": [
    {
     "data": {
      "text/html": [
       "<div>\n",
       "<style scoped>\n",
       "    .dataframe tbody tr th:only-of-type {\n",
       "        vertical-align: middle;\n",
       "    }\n",
       "\n",
       "    .dataframe tbody tr th {\n",
       "        vertical-align: top;\n",
       "    }\n",
       "\n",
       "    .dataframe thead th {\n",
       "        text-align: right;\n",
       "    }\n",
       "</style>\n",
       "<table border=\"1\" class=\"dataframe\">\n",
       "  <thead>\n",
       "    <tr style=\"text-align: right;\">\n",
       "      <th></th>\n",
       "      <th>name</th>\n",
       "      <th>brand_category</th>\n",
       "      <th>product_category</th>\n",
       "      <th>created</th>\n",
       "      <th>last_active</th>\n",
       "      <th>last_onboarding_step</th>\n",
       "      <th>saw_discovery</th>\n",
       "      <th>address_country</th>\n",
       "    </tr>\n",
       "  </thead>\n",
       "  <tbody>\n",
       "    <tr>\n",
       "      <td>0</td>\n",
       "      <td>Milksnob</td>\n",
       "      <td>/art and entertainment/shows and events</td>\n",
       "      <td>NaN</td>\n",
       "      <td>2018-01-02</td>\n",
       "      <td>2018-06-11</td>\n",
       "      <td>3</td>\n",
       "      <td>False</td>\n",
       "      <td>United States</td>\n",
       "    </tr>\n",
       "    <tr>\n",
       "      <td>1</td>\n",
       "      <td>NaN</td>\n",
       "      <td>NaN</td>\n",
       "      <td>NaN</td>\n",
       "      <td>2018-01-02</td>\n",
       "      <td>2018-01-12</td>\n",
       "      <td>1</td>\n",
       "      <td>False</td>\n",
       "      <td>NaN</td>\n",
       "    </tr>\n",
       "    <tr>\n",
       "      <td>2</td>\n",
       "      <td>NaN</td>\n",
       "      <td>NaN</td>\n",
       "      <td>NaN</td>\n",
       "      <td>2018-01-03</td>\n",
       "      <td>2018-01-03</td>\n",
       "      <td>1</td>\n",
       "      <td>False</td>\n",
       "      <td>NaN</td>\n",
       "    </tr>\n",
       "    <tr>\n",
       "      <td>3</td>\n",
       "      <td>Baseball Much</td>\n",
       "      <td>/sports/baseball</td>\n",
       "      <td>NaN</td>\n",
       "      <td>2018-01-03</td>\n",
       "      <td>2018-01-03</td>\n",
       "      <td>1</td>\n",
       "      <td>False</td>\n",
       "      <td>NaN</td>\n",
       "    </tr>\n",
       "    <tr>\n",
       "      <td>4</td>\n",
       "      <td>NaN</td>\n",
       "      <td>NaN</td>\n",
       "      <td>NaN</td>\n",
       "      <td>2018-01-04</td>\n",
       "      <td>2018-01-04</td>\n",
       "      <td>1</td>\n",
       "      <td>False</td>\n",
       "      <td>NaN</td>\n",
       "    </tr>\n",
       "  </tbody>\n",
       "</table>\n",
       "</div>"
      ],
      "text/plain": [
       "            name                           brand_category product_category  \\\n",
       "0       Milksnob  /art and entertainment/shows and events              NaN   \n",
       "1            NaN                                      NaN              NaN   \n",
       "2            NaN                                      NaN              NaN   \n",
       "3  Baseball Much                         /sports/baseball              NaN   \n",
       "4            NaN                                      NaN              NaN   \n",
       "\n",
       "      created last_active  last_onboarding_step  saw_discovery address_country  \n",
       "0  2018-01-02  2018-06-11                     3          False   United States  \n",
       "1  2018-01-02  2018-01-12                     1          False             NaN  \n",
       "2  2018-01-03  2018-01-03                     1          False             NaN  \n",
       "3  2018-01-03  2018-01-03                     1          False             NaN  \n",
       "4  2018-01-04  2018-01-04                     1          False             NaN  "
      ]
     },
     "execution_count": 6,
     "metadata": {},
     "output_type": "execute_result"
    }
   ],
   "source": [
    "df.head()"
   ]
  },
  {
   "cell_type": "code",
   "execution_count": 7,
   "metadata": {
    "scrolled": false
   },
   "outputs": [
    {
     "data": {
      "text/plain": [
       "Text(0.5, 1, 'Missing Data')"
      ]
     },
     "execution_count": 7,
     "metadata": {},
     "output_type": "execute_result"
    },
    {
     "data": {
      "image/png": "[encoded data removed]",
      "text/plain": [
       "<Figure size 432x288 with 1 Axes>"
      ]
     },
     "metadata": {
      "needs_background": "light"
     },
     "output_type": "display_data"
    }
   ],
   "source": [
    "sns.heatmap(df.isnull(),yticklabels=False,cbar=False,cmap='viridis')\n",
    "plt.title('Missing Data')"
   ]
  },
  {
   "cell_type": "code",
   "execution_count": 8,
   "metadata": {},
   "outputs": [
    {
     "data": {
      "text/plain": [
       "array([nan, 'Outdoors', 'Art', 'Personal Care',\n",
       "       'Commercial  & Professional Services', 'Automobiles', 'Marketing',\n",
       "       'Food & Beverage', 'Health & Medical', 'Apparel & Jewelry',\n",
       "       'Sport & Fitness Centers', 'Telecommunication Services',\n",
       "       'Pharmaceuticals Biotechnology & Life Sciences',\n",
       "       'Consumer Durables', 'Technology Hardware & Equipment',\n",
       "       'Retailing', 'Insurance', 'Lifestyle Services', 'Pets',\n",
       "       'Software & Services', 'Consumer Services', 'Transportation',\n",
       "       'Health Care Supplies', 'Utilities', 'Energy',\n",
       "       'Diversified Financials', 'Banks', 'Real Estate',\n",
       "       'Food Distributors', 'Footwear', 'Belts', 'Golf Courses'],\n",
       "      dtype=object)"
      ]
     },
     "execution_count": 8,
     "metadata": {},
     "output_type": "execute_result"
    }
   ],
   "source": [
    "df.product_category.unique()"
   ]
  },
  {
   "cell_type": "code",
   "execution_count": 9,
   "metadata": {},
   "outputs": [
    {
     "data": {
      "text/plain": [
       "32"
      ]
     },
     "execution_count": 9,
     "metadata": {},
     "output_type": "execute_result"
    }
   ],
   "source": [
    "len(df.product_category.unique())"
   ]
  },
  {
   "cell_type": "code",
   "execution_count": 10,
   "metadata": {},
   "outputs": [
    {
     "data": {
      "text/plain": [
       "Apparel & Jewelry                                102\n",
       "Food & Beverage                                   70\n",
       "Health & Medical                                  69\n",
       "Marketing                                         52\n",
       "Personal Care                                     41\n",
       "Lifestyle Services                                32\n",
       "Software & Services                               28\n",
       "Commercial  & Professional Services               26\n",
       "Technology Hardware & Equipment                   22\n",
       "Art                                               21\n",
       "Outdoors                                          21\n",
       "Consumer Durables                                 15\n",
       "Retailing                                         14\n",
       "Consumer Services                                 12\n",
       "Automobiles                                       10\n",
       "Transportation                                     8\n",
       "Telecommunication Services                         7\n",
       "Pets                                               5\n",
       "Insurance                                          4\n",
       "Pharmaceuticals Biotechnology & Life Sciences      4\n",
       "Diversified Financials                             4\n",
       "Sport & Fitness Centers                            3\n",
       "Banks                                              3\n",
       "Energy                                             2\n",
       "Real Estate                                        2\n",
       "Utilities                                          1\n",
       "Footwear                                           1\n",
       "Belts                                              1\n",
       "Golf Courses                                       1\n",
       "Health Care Supplies                               1\n",
       "Food Distributors                                  1\n",
       "Name: product_category, dtype: int64"
      ]
     },
     "execution_count": 10,
     "metadata": {},
     "output_type": "execute_result"
    }
   ],
   "source": [
    "df['product_category'].value_counts()"
   ]
  },
  {
   "cell_type": "code",
   "execution_count": 11,
   "metadata": {},
   "outputs": [
    {
     "data": {
      "text/plain": [
       "/art and entertainment/shows and events                       28\n",
       "/food and drink/food                                          21\n",
       "/food and drink                                               15\n",
       "/health and fitness                                           10\n",
       "/style and fashion                                             7\n",
       "                                                              ..\n",
       "/style and fashion/beauty/cosmetics                            1\n",
       "/technology and computing/networking/vpn and remote access     1\n",
       "/sports/bobsled                                                1\n",
       "/sports/boat racing                                            1\n",
       "/sports/hunting and shooting                                   1\n",
       "Name: brand_category, Length: 103, dtype: int64"
      ]
     },
     "execution_count": 11,
     "metadata": {},
     "output_type": "execute_result"
    }
   ],
   "source": [
    "df['brand_category'].value_counts()"
   ]
  },
  {
   "cell_type": "code",
   "execution_count": 12,
   "metadata": {},
   "outputs": [
    {
     "data": {
      "text/plain": [
       "103"
      ]
     },
     "execution_count": 12,
     "metadata": {},
     "output_type": "execute_result"
    }
   ],
   "source": [
    "len(df['brand_category'].value_counts())"
   ]
  },
  {
   "cell_type": "code",
   "execution_count": 13,
   "metadata": {},
   "outputs": [
    {
     "data": {
      "text/plain": [
       "United States           393\n",
       "India                    44\n",
       "Canada                   20\n",
       "United Kingdom           19\n",
       "Australia                11\n",
       "Mexico                    4\n",
       "South Africa              4\n",
       "Brazil                    3\n",
       "France                    3\n",
       "Switzerland               3\n",
       "Italy                     2\n",
       "Norway                    2\n",
       "Indonesia                 2\n",
       "Bangladesh                2\n",
       "Hong Kong                 2\n",
       "United Arab Emirates      2\n",
       "Zimbabwe                  2\n",
       "Uganda                    2\n",
       "Israel                    2\n",
       "Portugal                  2\n",
       "Netherlands               2\n",
       "Sweden                    2\n",
       "Russia                    2\n",
       "Malaysia                  1\n",
       "Argentina                 1\n",
       "China                     1\n",
       "Morocco                   1\n",
       "South Korea               1\n",
       "Nigeria                   1\n",
       "Macedonia (FYROM)         1\n",
       "Kenya                     1\n",
       "Pakistan                  1\n",
       "Estonia                   1\n",
       "Puerto Rico               1\n",
       "Liberia                   1\n",
       "Monaco                    1\n",
       "Spain                     1\n",
       "Latvia                    1\n",
       "Ghana                     1\n",
       "Macau                     1\n",
       "Bulgaria                  1\n",
       "Singapore                 1\n",
       "Bhutan                    1\n",
       "Egypt                     1\n",
       "Tanzania                  1\n",
       "Finland                   1\n",
       "Turkey                    1\n",
       "Laos                      1\n",
       "Name: address_country, dtype: int64"
      ]
     },
     "execution_count": 13,
     "metadata": {},
     "output_type": "execute_result"
    }
   ],
   "source": [
    "df['address_country'].value_counts()"
   ]
  },
  {
   "cell_type": "code",
   "execution_count": 14,
   "metadata": {},
   "outputs": [
    {
     "data": {
      "text/plain": [
       "2    839\n",
       "1    576\n",
       "3    484\n",
       "0    142\n",
       "Name: last_onboarding_step, dtype: int64"
      ]
     },
     "execution_count": 14,
     "metadata": {},
     "output_type": "execute_result"
    }
   ],
   "source": [
    "df['last_onboarding_step'].value_counts()"
   ]
  },
  {
   "cell_type": "code",
   "execution_count": null,
   "metadata": {},
   "outputs": [],
   "source": [
    "df['last_onboarding_step'].value_counts()"
   ]
  }
 ],
 "metadata": {
  "kernelspec": {
   "display_name": "Python 3",
   "language": "python",
   "name": "python3"
  },
  "language_info": {
   "codemirror_mode": {
    "name": "ipython",
    "version": 3
   },
   "file_extension": ".py",
   "mimetype": "text/x-python",
   "name": "python",
   "nbconvert_exporter": "python",
   "pygments_lexer": "ipython3",
   "version": "3.7.4"
  },
  "toc": {
   "base_numbering": 1,
   "nav_menu": {},
   "number_sections": true,
   "sideBar": true,
   "skip_h1_title": false,
   "title_cell": "Table of Contents",
   "title_sidebar": "Contents",
   "toc_cell": false,
   "toc_position": {},
   "toc_section_display": true,
   "toc_window_display": false
  },
  "varInspector": {
   "cols": {
    "lenName": 16,
    "lenType": 16,
    "lenVar": 40
   },
   "kernels_config": {
    "python": {
     "delete_cmd_postfix": "",
     "delete_cmd_prefix": "del ",
     "library": "var_list.py",
     "varRefreshCmd": "print(var_dic_list())"
    },
    "r": {
     "delete_cmd_postfix": ") ",
     "delete_cmd_prefix": "rm(",
     "library": "var_list.r",
     "varRefreshCmd": "cat(var_dic_list()) "
    }
   },
   "types_to_exclude": [
    "module",
    "function",
    "builtin_function_or_method",
    "instance",
    "_Feature"
   ],
   "window_display": false
  }
 },
 "nbformat": 4,
 "nbformat_minor": 2
}
